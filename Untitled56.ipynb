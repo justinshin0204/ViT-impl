{
  "cells": [
    {
      "cell_type": "markdown",
      "metadata": {
        "id": "view-in-github",
        "colab_type": "text"
      },
      "source": [
        "<a href=\"https://colab.research.google.com/github/justinshin0204/ViT-impl/blob/main/Untitled56.ipynb\" target=\"_parent\"><img src=\"https://colab.research.google.com/assets/colab-badge.svg\" alt=\"Open In Colab\"/></a>"
      ]
    },
    {
      "cell_type": "code",
      "execution_count": 1,
      "metadata": {
        "colab": {
          "base_uri": "https://localhost:8080/"
        },
        "id": "MnhouAot8_8h",
        "outputId": "fd3e9f0f-85ea-455d-afde-d4ba2c29ba9b"
      },
      "outputs": [
        {
          "output_type": "stream",
          "name": "stdout",
          "text": [
            "Collecting einops\n",
            "  Downloading einops-0.8.0-py3-none-any.whl (43 kB)\n",
            "\u001b[?25l     \u001b[90m━━━━━━━━━━━━━━━━━━━━━━━━━━━━━━━━━━━━━━━━\u001b[0m \u001b[32m0.0/43.2 kB\u001b[0m \u001b[31m?\u001b[0m eta \u001b[36m-:--:--\u001b[0m\r\u001b[2K     \u001b[90m━━━━━━━━━━━━━━━━━━━━━━━━━━━━━━━━━━━━━━━━\u001b[0m \u001b[32m43.2/43.2 kB\u001b[0m \u001b[31m1.8 MB/s\u001b[0m eta \u001b[36m0:00:00\u001b[0m\n",
            "\u001b[?25hInstalling collected packages: einops\n",
            "Successfully installed einops-0.8.0\n"
          ]
        }
      ],
      "source": [
        "pip install einops"
      ]
    },
    {
      "cell_type": "code",
      "execution_count": 2,
      "metadata": {
        "colab": {
          "base_uri": "https://localhost:8080/"
        },
        "id": "t4Y-JFzGDelo",
        "outputId": "c0097e49-75f6-43e0-e86f-56b94c38d13b"
      },
      "outputs": [
        {
          "output_type": "stream",
          "name": "stdout",
          "text": [
            "Mounted at /content/drive\n",
            "cuda\n"
          ]
        }
      ],
      "source": [
        "from google.colab import drive\n",
        "drive.mount('/content/drive')\n",
        "import torch\n",
        "from torch import nn, optim\n",
        "from torchvision import datasets, transforms\n",
        "from torch.optim.lr_scheduler import CosineAnnealingLR\n",
        "from tqdm import tqdm\n",
        "import math\n",
        "import matplotlib.pyplot as plt\n",
        "from einops import rearrange\n",
        "DEVICE = \"cuda\" if torch.cuda.is_available() else \"cpu\"\n",
        "print(DEVICE)"
      ]
    },
    {
      "cell_type": "code",
      "execution_count": 15,
      "metadata": {
        "id": "xRqF9kY2D1KR"
      },
      "outputs": [],
      "source": [
        "# BATCH_SIZE = 4096 # 논문의 값 (pre-training)\n",
        "BATCH_SIZE = 32\n",
        "# LAMBDA = 1e-1 # l2-Regularization룰 위한 hyperparam. # 논문의 값 (pre-training)\n",
        "LAMBDA = 3e-1 # 저장된 모델\n",
        "EPOCH = 50 # 저장된 모델\n",
        "\n",
        "scheduler_name = 'Cos' # 저장된 모델 (fine-tuning시 cos decay 썼다고 함)\n",
        "#### Noam ####\n",
        "warmup_steps = 1000 # 데이터 수 * EPOCH / BS = 총 step 수 인것 고려\n",
        "LR_scale = 0.5 # Noam scheduler에 peak LR 값 조절을 위해 곱해질 녀석\n",
        "### Linear ###\n",
        "warmup_steps = 12000\n",
        "LR_peak = 1e-3\n",
        "#### Cos ####\n",
        "LR_init = 1e-4 # 저장된 모델\n",
        "#### Constant ####\n",
        "LR = 1e-4\n",
        "\n",
        "\n",
        "\n",
        "criterion = nn.CrossEntropyLoss()\n",
        "\n",
        "save_model_path = '/content/drive/MyDrive/Colab Notebooks/results/ViT_CIFAR10_2.pt'\n",
        "save_history_path = '/content/drive/MyDrive/Colab Notebooks/results/ViT_CIFAR10_2_history.pt'"
      ]
    },
    {
      "cell_type": "code",
      "execution_count": 20,
      "metadata": {
        "colab": {
          "base_uri": "https://localhost:8080/"
        },
        "id": "yjwVgnSBKf5v",
        "outputId": "c69e21cd-9736-4f9b-a84e-8af67feb4c8b"
      },
      "outputs": [
        {
          "output_type": "stream",
          "name": "stdout",
          "text": [
            "Files already downloaded and verified\n",
            "50000\n",
            "Files already downloaded and verified\n"
          ]
        }
      ],
      "source": [
        "transform_train = transforms.Compose([\n",
        "    # transforms.RandomResizedCrop(scale=(0.9,1), ratio=(0.3,1.7), size=(32,32)),\n",
        "\n",
        "    transforms.RandomGrayscale(p=0.1),\n",
        "    # transforms.ColorJitter(brightness=0.1, contrast=0.1, saturation=0.1, hue=0.05),\n",
        "\n",
        "    transforms.RandomHorizontalFlip(p=0.4), # p 확률로 좌우반전\n",
        "    # transforms.RandomVerticalFlip(p=0.5), # p 확률로 상하반전\n",
        "    # transforms.RandomAffine(degrees=(0,90),translate=(0.1,0.2),scale=(0.9,1.1)),\n",
        "    # transforms.RandomPerspective(distortion_scale=0.1, p=0.1), # distortion 정도 0~1 사이, default는 0.5, p는 적용 확률\n",
        "\n",
        "    transforms.ToTensor(), # 얘는 항상 살려줘야함\n",
        "\n",
        "    transforms.RandomErasing(p=0.1, scale=(0.03,0.08), ratio=(0.3,3.3)), # ToTensor 뒤에 와야\n",
        "    # transforms.Normalize((0.485, 0.456, 0.406), (0.229, 0.224, 0.225)),\n",
        "    ])\n",
        "\n",
        "transform_test = transforms.ToTensor()\n",
        "\n",
        "train_DS = datasets.CIFAR10(root = '/content/drive/MyDrive/Colab Notebooks/data', train=True, download=True, transform=transform_train)\n",
        "#sub set객체가 된다\n",
        "train_DS, val_DS = torch.utils.data.random_split(train_DS, [45000, 5000])\n",
        "test_DS = datasets.CIFAR10(root = '/content/drive/MyDrive/Colab Notebooks/data', train=False, download=True, transform=transform_test)\n",
        "\n",
        "train_DL = torch.utils.data.DataLoader(train_DS, batch_size = BATCH_SIZE, shuffle = True)\n",
        "val_DL = torch.utils.data.DataLoader(val_DS, batch_size = BATCH_SIZE, shuffle = True)\n",
        "test_DL = torch.utils.data.DataLoader(test_DS, batch_size = BATCH_SIZE, shuffle = True)\n"
      ]
    },
    {
      "cell_type": "code",
      "execution_count": 21,
      "metadata": {
        "colab": {
          "base_uri": "https://localhost:8080/"
        },
        "id": "FDvunqMYdkDW",
        "outputId": "d0edb36a-4491-48aa-cbac-3e9f37b6f1aa"
      },
      "outputs": [
        {
          "output_type": "stream",
          "name": "stdout",
          "text": [
            "torch.Size([3, 32, 32])\n"
          ]
        }
      ],
      "source": [
        "# 데이터셋의 첫 번째 샘플 가져오기\n",
        "image, label = train_DS[1]\n",
        "\n",
        "# 이미지의 크기 출력하기\n",
        "print(image.size())  # torch.Tensor의 크기를 출력"
      ]
    },
    {
      "cell_type": "code",
      "execution_count": 22,
      "metadata": {
        "colab": {
          "base_uri": "https://localhost:8080/",
          "height": 753
        },
        "id": "yH04FkkvVdAo",
        "outputId": "3e553bae-7f37-4283-d615-fa7b2ec8efd1"
      },
      "outputs": [
        {
          "output_type": "stream",
          "name": "stdout",
          "text": [
            "image size = torch.Size([3, 32, 32])\n",
            "image size = torch.Size([3, 32, 32])\n"
          ]
        },
        {
          "output_type": "display_data",
          "data": {
            "text/plain": [
              "<Figure size 800x400 with 6 Axes>"
            ],
            "image/png": "[encoded data removed]"
          },
          "metadata": {}
        },
        {
          "output_type": "display_data",
          "data": {
            "text/plain": [
              "<Figure size 800x400 with 6 Axes>"
            ],
            "image/png": "[encoded data removed]"
          },
          "metadata": {}
        }
      ],
      "source": [
        "from PIL import Image\n",
        "def im_plot(x_numpy, y_batch, transform):\n",
        "    plt.figure(figsize=(8,4))\n",
        "    for idx in range(6):\n",
        "        im = Image.fromarray(x_numpy[idx])\n",
        "        im = transform(im)\n",
        "        im = im-im.min() # for imshow clipping\n",
        "        im = im/im.max() # for imshow clipping\n",
        "\n",
        "        plt.subplot(2,3, idx+1, xticks=[], yticks=[])\n",
        "        plt.imshow(im.permute(1,2,0))\n",
        "        true_class = test_DS.classes[y_batch[idx]]\n",
        "        plt.title(true_class, color = \"g\")\n",
        "    print(f\"image size = {im.shape}\")\n",
        "\n",
        "idx = torch.randint(0,10000,(6,))\n",
        "x_batch = test_DS.data[idx]\n",
        "targets = torch.tensor(test_DS.targets) # 리스트라서 텐서로 바꿔줌 (random idx로 인덱싱 하기위해)\n",
        "y_batch = targets[idx]\n",
        "im_plot(x_batch, y_batch, transform_test)\n",
        "im_plot(x_batch, y_batch, transform_train)"
      ]
    },
    {
      "cell_type": "code",
      "execution_count": 8,
      "metadata": {
        "id": "dIUquDxgkhbD"
      },
      "outputs": [],
      "source": [
        "class MHA(nn.Module):\n",
        "    def __init__(self, hidden_dim, n_heads):\n",
        "        super().__init__()\n",
        "\n",
        "        self.n_heads = n_heads\n",
        "\n",
        "        self.fc_q = nn.Linear(hidden_dim, hidden_dim)\n",
        "        self.fc_k = nn.Linear(hidden_dim, hidden_dim)\n",
        "        self.fc_v = nn.Linear(hidden_dim, hidden_dim)\n",
        "        self.fc_o = nn.Linear(hidden_dim, hidden_dim)\n",
        "\n",
        "        self.scale = torch.sqrt(torch.tensor(hidden_dim / n_heads))\n",
        "\n",
        "        nn.init.xavier_uniform_(self.fc_q.weight)\n",
        "        nn.init.xavier_uniform_(self.fc_k.weight)\n",
        "        nn.init.xavier_uniform_(self.fc_v.weight)\n",
        "        nn.init.xavier_uniform_(self.fc_o.weight)\n",
        "\n",
        "        if self.fc_q.bias is not None:\n",
        "            nn.init.constant_(self.fc_q.bias, 0)\n",
        "        if self.fc_k.bias is not None:\n",
        "            nn.init.constant_(self.fc_k.bias, 0)\n",
        "        if self.fc_v.bias is not None:\n",
        "            nn.init.constant_(self.fc_v.bias, 0)\n",
        "        if self.fc_o.bias is not None:\n",
        "            nn.init.constant_(self.fc_o.bias, 0)\n",
        "\n",
        "    def forward(self, x):\n",
        "\n",
        "        Q = self.fc_q(x)\n",
        "        K = self.fc_k(x)\n",
        "        V = self.fc_v(x)\n",
        "\n",
        "        Q = rearrange(Q, 'num word (head dim) -> num head word dim', head=self.n_heads)\n",
        "        K = rearrange(K, 'num word (head dim) -> num head word dim', head=self.n_heads)\n",
        "        V = rearrange(V, 'num word (head dim) -> num head word dim', head=self.n_heads)\n",
        "\n",
        "        attention_score = Q @ K.transpose(-2, -1) / self.scale\n",
        "\n",
        "        attention_weights = torch.softmax(attention_score, dim=-1)\n",
        "\n",
        "        attention = attention_weights @ V\n",
        "\n",
        "        x = rearrange(attention, 'num head word dim -> num word (head dim)')\n",
        "        x = self.fc_o(x)\n",
        "\n",
        "        return x, attention_weights\n",
        "#  개수 x 현 output 단어수 x 차원수\n",
        "\n",
        "class FeedForward(nn.Module):\n",
        "    def __init__(self, hidden_dim, d_ff, drop_p):\n",
        "        super().__init__()\n",
        "\n",
        "        self.linear = nn.Sequential(nn.Linear(hidden_dim, d_ff),\n",
        "                                    nn.GELU(),\n",
        "                                    nn.Dropout(drop_p),\n",
        "                                    nn.Linear(d_ff, hidden_dim))\n",
        "\n",
        "    def forward(self, x):\n",
        "        x = self.linear(x)\n",
        "        return x\n",
        "# 개수x 현 output 단어수 x 차원수\n"
      ]
    },
    {
      "cell_type": "code",
      "execution_count": 9,
      "metadata": {
        "id": "IdFjXk9zoFWt"
      },
      "outputs": [],
      "source": [
        "class EncoderLayer(nn.Module):\n",
        "    def __init__(self, hidden_dim, d_ff, n_heads, drop_p):\n",
        "        super().__init__()\n",
        "\n",
        "        self.self_atten_LN = nn.LayerNorm(hidden_dim, eps=1e-6)\n",
        "        self.self_atten = MHA(hidden_dim, n_heads)\n",
        "\n",
        "        self.FF_LN = nn.LayerNorm(hidden_dim, eps=1e-6)\n",
        "        self.FF = FeedForward(hidden_dim, d_ff, drop_p)\n",
        "\n",
        "        self.dropout = nn.Dropout(drop_p)\n",
        "\n",
        "    def forward(self, x):\n",
        "\n",
        "        residual = self.self_atten_LN(x)\n",
        "        residual, _ = self.self_atten(residual)\n",
        "        residual = self.dropout(residual)\n",
        "        x = x + residual\n",
        "\n",
        "        residual = self.FF_LN(x)\n",
        "        residual = self.FF(residual)\n",
        "        residual = self.dropout(residual)\n",
        "        x = x + residual\n",
        "\n",
        "        return x\n",
        "\n",
        "class Encoder(nn.Module):\n",
        "    def __init__(self, seq_length, n_layers, hidden_dim, d_ff, n_heads, drop_p):\n",
        "        super().__init__()\n",
        "\n",
        "        self.pos_embedding = nn.Parameter(0.02 * torch.randn(seq_length, hidden_dim))\n",
        "        self.dropout = nn.Dropout(drop_p)\n",
        "        self.layers = nn.ModuleList([EncoderLayer(hidden_dim, d_ff, n_heads, drop_p) for _ in range(n_layers)])\n",
        "        self.ln = nn.LayerNorm(hidden_dim, eps=1e-6)\n",
        "\n",
        "    def forward(self, src, atten_map_save=False):\n",
        "\n",
        "        x = src + self.pos_embedding.expand_as(src)\n",
        "        x = self.dropout(x)\n",
        "\n",
        "        for layer in self.layers:\n",
        "            x = layer(x)\n",
        "        x = x[:, 0, :]\n",
        "        x = self.ln(x)\n",
        "\n",
        "        return x\n",
        "# 개수x 현 output 단어수 x 차원수"
      ]
    },
    {
      "cell_type": "code",
      "execution_count": null,
      "metadata": {
        "id": "SMIAI4T5lFUO"
      },
      "outputs": [],
      "source": []
    },
    {
      "cell_type": "code",
      "execution_count": 10,
      "metadata": {
        "id": "LiIAF-VJsZC2"
      },
      "outputs": [],
      "source": [
        "class VisionTransformer(nn.Module):\n",
        "    def __init__(self, image_size, patch_size, n_layers, hidden_dim, d_ff, n_heads, representation_size = None, drop_p = 0., num_classes = 1000):\n",
        "        super().__init__()\n",
        "\n",
        "        self.hidden_dim = hidden_dim # vector dimension\n",
        "\n",
        "        seq_length = (image_size // patch_size) ** 2 + 1 # +1 for cls token\n",
        "        self.class_token = nn.Parameter(torch.zeros(hidden_dim)) # cls token\n",
        "        self.input_embedding = nn.Conv2d(3, hidden_dim, patch_size, stride=patch_size) ## Use nn.Conv2d to do the embedding at once\n",
        "        self.encoder = Encoder(seq_length, n_layers, hidden_dim, d_ff, n_heads, drop_p)\n",
        "\n",
        "        heads_layers = []\n",
        "        if representation_size is None:\n",
        "            self.head = nn.Linear(hidden_dim, num_classes) # fine-tune\n",
        "        else:\n",
        "            # pre-train\n",
        "            self.head = nn.Sequential(nn.Linear(hidden_dim, representation_size),\n",
        "                                      nn.Tanh(),\n",
        "                                      nn.Linear(representation_size, num_classes))\n",
        "\n",
        "        # fan_in=3 x kernel size\n",
        "        fan_in = self.input_embedding.in_channels * self.input_embedding.kernel_size[0] * self.input_embedding.kernel_size[1]\n",
        "        # weight init\n",
        "        nn.init.trunc_normal_(self.input_embedding.weight, std=math.sqrt(1 / fan_in))\n",
        "        if self.input_embedding.bias is not None:\n",
        "            nn.init.zeros_(self.input_embedding.bias)\n",
        "        # Linear weight 초기화\n",
        "        if representation_size is None:\n",
        "            nn.init.zeros_(self.head.weight) # fine-tune => zero-init\n",
        "            nn.init.zeros_(self.head.bias)\n",
        "        else: # pre-training 때\n",
        "            fan_in = self.head[0].in_features\n",
        "            nn.init.trunc_normal_(self.head[0].weight, std=math.sqrt(1 / fan_in))\n",
        "            nn.init.zeros_(self.head[0].bias)\n",
        "\n",
        "    def forward(self, x): # x.shape = 개채행열\n",
        "\n",
        "        x = self.input_embedding(x) # 개채행열 => 개차단h단w\n",
        "        x = rearrange(x, 'num dim h w -> num (h w) dim') # 개차단h단w => 개단차\n",
        "\n",
        "        batch_class_token = self.class_token.expand(x.shape[0], 1, -1) # 개1차\n",
        "        x = torch.cat([batch_class_token, x], dim=1) # 개(단+1)차\n",
        "\n",
        "        enc_out = self.encoder(x) # 개(단+1)차\n",
        "\n",
        "        x = self.head(enc_out)\n",
        "\n",
        "        return x"
      ]
    },
    {
      "cell_type": "code",
      "execution_count": 23,
      "metadata": {
        "id": "LF32N7EoMz8s"
      },
      "outputs": [],
      "source": [
        "def vit_cifar10(**kwargs):\n",
        "    return VisionTransformer(image_size = 32, patch_size = 2, n_layers = 3, hidden_dim = 256, d_ff = 1024, n_heads = 8, representation_size = 256, **kwargs)"
      ]
    },
    {
      "cell_type": "code",
      "execution_count": 24,
      "metadata": {
        "id": "7nrMeq-dM01N"
      },
      "outputs": [],
      "source": [
        "model = vit_cifar10(num_classes = 10).to(DEVICE)\n"
      ]
    },
    {
      "cell_type": "code",
      "execution_count": 25,
      "metadata": {
        "id": "ZUlnw-yTM_hs"
      },
      "outputs": [],
      "source": [
        "def Train(model, train_DL, val_DL, criterion, optimizer, scheduler = None):\n",
        "    loss_history = {\"train\": [], \"val\": []}\n",
        "    acc_history = {\"train\": [], \"val\": []}\n",
        "    best_loss = 9999\n",
        "    for ep in range(EPOCH):\n",
        "        model.train() # train mode로 전환\n",
        "        train_loss, train_acc, _ = loss_epoch(model, train_DL, criterion, optimizer = optimizer, scheduler = scheduler)\n",
        "        loss_history[\"train\"] += [train_loss]\n",
        "        acc_history[\"train\"] += [train_acc]\n",
        "\n",
        "        model.eval() # test mode로 전환\n",
        "        with torch.no_grad():\n",
        "            val_loss, val_acc, _ = loss_epoch(model, val_DL, criterion)\n",
        "            loss_history[\"val\"] += [val_loss]\n",
        "            acc_history[\"val\"] += [val_acc]\n",
        "            if val_loss < best_loss:\n",
        "                best_loss = val_loss\n",
        "                torch.save({\"model\": model,\n",
        "                            \"ep\": ep,\n",
        "                            \"optimizer\": optimizer,\n",
        "                            \"scheduler\": scheduler}, save_model_path)\n",
        "        # print loss\n",
        "        print(f\"Epoch: {ep+1}, current_LR = {optimizer.param_groups[0]['lr']:.8f}\")\n",
        "        print(f\"train loss: {train_loss:.5f}, \"\n",
        "              f\"val loss: {val_loss:.5f} \\n\"\n",
        "              f\"train acc: {train_acc:.1f} %, \"\n",
        "              f\"val acc: {val_acc:.1f} %\")\n",
        "        print(\"-\" * 20)\n",
        "\n",
        "    torch.save({\"loss_history\": loss_history,\n",
        "                \"acc_history\": acc_history,\n",
        "                \"EPOCH\": EPOCH,\n",
        "                \"BATCH_SIZE\": BATCH_SIZE}, save_history_path)\n",
        "\n",
        "def Test(model, test_DL, criterion):\n",
        "    model.eval() # test mode로 전환\n",
        "    with torch.no_grad():\n",
        "        test_loss, test_acc, rcorrect = loss_epoch(model, test_DL, criterion)\n",
        "    print(f\"Test loss: {test_loss:.3f}\")\n",
        "    print(f\"Test accuracy: {rcorrect}/{len(test_DL.dataset)} ({round(test_acc,1)} %)\")\n",
        "    return round(test_acc,1)\n",
        "\n",
        "def loss_epoch(model, DL, criterion, optimizer = None, scheduler = None):\n",
        "    N = len(DL.dataset) # the number of data\n",
        "    rloss=0; rcorrect = 0\n",
        "    for x_batch, y_batch in tqdm(DL, leave=False):\n",
        "        x_batch = x_batch.to(DEVICE)\n",
        "        y_batch = y_batch.to(DEVICE)\n",
        "        # inference\n",
        "        y_hat = model(x_batch)\n",
        "        # loss\n",
        "        loss = criterion(y_hat, y_batch)\n",
        "        # update\n",
        "        if optimizer is not None:\n",
        "            optimizer.zero_grad()\n",
        "            loss.backward()\n",
        "            optimizer.step()\n",
        "        if scheduler is not None:\n",
        "            scheduler.step()\n",
        "        # loss accumulation\n",
        "        loss_b = loss.item() * x_batch.shape[0]\n",
        "        rloss += loss_b\n",
        "        # accuracy accumulation\n",
        "        pred = y_hat.argmax(dim=1)\n",
        "        corrects_b = torch.sum(pred == y_batch).item()\n",
        "        rcorrect += corrects_b\n",
        "    loss_e = rloss/N\n",
        "    accuracy_e = rcorrect/N * 100\n",
        "\n",
        "    return loss_e, accuracy_e, rcorrect\n",
        "\n",
        "\n"
      ]
    },
    {
      "cell_type": "code",
      "execution_count": 27,
      "metadata": {
        "colab": {
          "base_uri": "https://localhost:8080/"
        },
        "id": "AoAknw5HW3Q6",
        "outputId": "f21454b1-0dab-4af0-f723-acf981f9435f"
      },
      "outputs": [
        {
          "output_type": "stream",
          "name": "stderr",
          "text": []
        },
        {
          "output_type": "stream",
          "name": "stdout",
          "text": [
            "Epoch: 1, current_LR = 0.00009990\n",
            "train loss: 1.79437, val loss: 1.55605 \n",
            "train acc: 32.9 %, val acc: 42.1 %\n",
            "--------------------\n"
          ]
        },
        {
          "output_type": "stream",
          "name": "stderr",
          "text": []
        },
        {
          "output_type": "stream",
          "name": "stdout",
          "text": [
            "Epoch: 2, current_LR = 0.00009961\n",
            "train loss: 1.50688, val loss: 1.42120 \n",
            "train acc: 44.3 %, val acc: 47.6 %\n",
            "--------------------\n"
          ]
        },
        {
          "output_type": "stream",
          "name": "stderr",
          "text": []
        },
        {
          "output_type": "stream",
          "name": "stdout",
          "text": [
            "Epoch: 3, current_LR = 0.00009911\n",
            "train loss: 1.36123, val loss: 1.38120 \n",
            "train acc: 50.4 %, val acc: 49.5 %\n",
            "--------------------\n"
          ]
        },
        {
          "output_type": "stream",
          "name": "stderr",
          "text": []
        },
        {
          "output_type": "stream",
          "name": "stdout",
          "text": [
            "Epoch: 4, current_LR = 0.00009843\n",
            "train loss: 1.26278, val loss: 1.24859 \n",
            "train acc: 54.3 %, val acc: 54.0 %\n",
            "--------------------\n"
          ]
        },
        {
          "output_type": "stream",
          "name": "stderr",
          "text": []
        },
        {
          "output_type": "stream",
          "name": "stdout",
          "text": [
            "Epoch: 5, current_LR = 0.00009755\n",
            "train loss: 1.18662, val loss: 1.19291 \n",
            "train acc: 57.2 %, val acc: 56.7 %\n",
            "--------------------\n"
          ]
        },
        {
          "output_type": "stream",
          "name": "stderr",
          "text": []
        },
        {
          "output_type": "stream",
          "name": "stdout",
          "text": [
            "Epoch: 6, current_LR = 0.00009649\n",
            "train loss: 1.12912, val loss: 1.11056 \n",
            "train acc: 59.6 %, val acc: 59.3 %\n",
            "--------------------\n"
          ]
        },
        {
          "output_type": "stream",
          "name": "stderr",
          "text": []
        },
        {
          "output_type": "stream",
          "name": "stdout",
          "text": [
            "Epoch: 7, current_LR = 0.00009524\n",
            "train loss: 1.07786, val loss: 1.09295 \n",
            "train acc: 61.3 %, val acc: 60.5 %\n",
            "--------------------\n"
          ]
        },
        {
          "output_type": "stream",
          "name": "stderr",
          "text": []
        },
        {
          "output_type": "stream",
          "name": "stdout",
          "text": [
            "Epoch: 8, current_LR = 0.00009381\n",
            "train loss: 1.03157, val loss: 1.07200 \n",
            "train acc: 63.1 %, val acc: 61.1 %\n",
            "--------------------\n"
          ]
        },
        {
          "output_type": "stream",
          "name": "stderr",
          "text": []
        },
        {
          "output_type": "stream",
          "name": "stdout",
          "text": [
            "Epoch: 9, current_LR = 0.00009221\n",
            "train loss: 0.99074, val loss: 1.06812 \n",
            "train acc: 64.7 %, val acc: 61.5 %\n",
            "--------------------\n"
          ]
        },
        {
          "output_type": "stream",
          "name": "stderr",
          "text": []
        },
        {
          "output_type": "stream",
          "name": "stdout",
          "text": [
            "Epoch: 10, current_LR = 0.00009044\n",
            "train loss: 0.95254, val loss: 1.01458 \n",
            "train acc: 66.1 %, val acc: 63.8 %\n",
            "--------------------\n"
          ]
        },
        {
          "output_type": "stream",
          "name": "stderr",
          "text": []
        },
        {
          "output_type": "stream",
          "name": "stdout",
          "text": [
            "Epoch: 11, current_LR = 0.00008851\n",
            "train loss: 0.92074, val loss: 1.02859 \n",
            "train acc: 67.4 %, val acc: 62.8 %\n",
            "--------------------\n"
          ]
        },
        {
          "output_type": "stream",
          "name": "stderr",
          "text": []
        },
        {
          "output_type": "stream",
          "name": "stdout",
          "text": [
            "Epoch: 12, current_LR = 0.00008643\n",
            "train loss: 0.88785, val loss: 1.01182 \n",
            "train acc: 68.6 %, val acc: 64.0 %\n",
            "--------------------\n"
          ]
        },
        {
          "output_type": "stream",
          "name": "stderr",
          "text": []
        },
        {
          "output_type": "stream",
          "name": "stdout",
          "text": [
            "Epoch: 13, current_LR = 0.00008421\n",
            "train loss: 0.86372, val loss: 0.96025 \n",
            "train acc: 69.2 %, val acc: 66.3 %\n",
            "--------------------\n"
          ]
        },
        {
          "output_type": "stream",
          "name": "stderr",
          "text": []
        },
        {
          "output_type": "stream",
          "name": "stdout",
          "text": [
            "Epoch: 14, current_LR = 0.00008185\n",
            "train loss: 0.83988, val loss: 0.93597 \n",
            "train acc: 70.4 %, val acc: 66.3 %\n",
            "--------------------\n"
          ]
        },
        {
          "output_type": "stream",
          "name": "stderr",
          "text": []
        },
        {
          "output_type": "stream",
          "name": "stdout",
          "text": [
            "Epoch: 15, current_LR = 0.00007937\n",
            "train loss: 0.81648, val loss: 0.93907 \n",
            "train acc: 71.1 %, val acc: 66.3 %\n",
            "--------------------\n"
          ]
        },
        {
          "output_type": "stream",
          "name": "stderr",
          "text": []
        },
        {
          "output_type": "stream",
          "name": "stdout",
          "text": [
            "Epoch: 16, current_LR = 0.00007677\n",
            "train loss: 0.79463, val loss: 0.91281 \n",
            "train acc: 72.0 %, val acc: 67.7 %\n",
            "--------------------\n"
          ]
        },
        {
          "output_type": "stream",
          "name": "stderr",
          "text": []
        },
        {
          "output_type": "stream",
          "name": "stdout",
          "text": [
            "Epoch: 17, current_LR = 0.00007406\n",
            "train loss: 0.76846, val loss: 0.89209 \n",
            "train acc: 72.7 %, val acc: 68.5 %\n",
            "--------------------\n"
          ]
        },
        {
          "output_type": "stream",
          "name": "stderr",
          "text": []
        },
        {
          "output_type": "stream",
          "name": "stdout",
          "text": [
            "Epoch: 18, current_LR = 0.00007126\n",
            "train loss: 0.75239, val loss: 0.88940 \n",
            "train acc: 73.5 %, val acc: 68.5 %\n",
            "--------------------\n"
          ]
        },
        {
          "output_type": "stream",
          "name": "stderr",
          "text": []
        },
        {
          "output_type": "stream",
          "name": "stdout",
          "text": [
            "Epoch: 19, current_LR = 0.00006838\n",
            "train loss: 0.73525, val loss: 0.90596 \n",
            "train acc: 74.2 %, val acc: 68.3 %\n",
            "--------------------\n"
          ]
        },
        {
          "output_type": "stream",
          "name": "stderr",
          "text": []
        },
        {
          "output_type": "stream",
          "name": "stdout",
          "text": [
            "Epoch: 20, current_LR = 0.00006542\n",
            "train loss: 0.72173, val loss: 0.87638 \n",
            "train acc: 74.6 %, val acc: 69.1 %\n",
            "--------------------\n"
          ]
        },
        {
          "output_type": "stream",
          "name": "stderr",
          "text": []
        },
        {
          "output_type": "stream",
          "name": "stdout",
          "text": [
            "Epoch: 21, current_LR = 0.00006240\n",
            "train loss: 0.69894, val loss: 0.88670 \n",
            "train acc: 75.4 %, val acc: 68.4 %\n",
            "--------------------\n"
          ]
        },
        {
          "output_type": "stream",
          "name": "stderr",
          "text": []
        },
        {
          "output_type": "stream",
          "name": "stdout",
          "text": [
            "Epoch: 22, current_LR = 0.00005933\n",
            "train loss: 0.68542, val loss: 0.86859 \n",
            "train acc: 75.9 %, val acc: 69.4 %\n",
            "--------------------\n"
          ]
        },
        {
          "output_type": "stream",
          "name": "stderr",
          "text": []
        },
        {
          "output_type": "stream",
          "name": "stdout",
          "text": [
            "Epoch: 23, current_LR = 0.00005623\n",
            "train loss: 0.66843, val loss: 0.87503 \n",
            "train acc: 76.5 %, val acc: 69.0 %\n",
            "--------------------\n"
          ]
        },
        {
          "output_type": "stream",
          "name": "stderr",
          "text": []
        },
        {
          "output_type": "stream",
          "name": "stdout",
          "text": [
            "Epoch: 24, current_LR = 0.00005310\n",
            "train loss: 0.64855, val loss: 0.86578 \n",
            "train acc: 77.2 %, val acc: 70.3 %\n",
            "--------------------\n"
          ]
        },
        {
          "output_type": "stream",
          "name": "stderr",
          "text": []
        },
        {
          "output_type": "stream",
          "name": "stdout",
          "text": [
            "Epoch: 25, current_LR = 0.00004996\n",
            "train loss: 0.63497, val loss: 0.84720 \n",
            "train acc: 77.5 %, val acc: 70.5 %\n",
            "--------------------\n"
          ]
        },
        {
          "output_type": "stream",
          "name": "stderr",
          "text": []
        },
        {
          "output_type": "stream",
          "name": "stdout",
          "text": [
            "Epoch: 26, current_LR = 0.00004682\n",
            "train loss: 0.61165, val loss: 0.83463 \n",
            "train acc: 78.4 %, val acc: 70.8 %\n",
            "--------------------\n"
          ]
        },
        {
          "output_type": "stream",
          "name": "stderr",
          "text": []
        },
        {
          "output_type": "stream",
          "name": "stdout",
          "text": [
            "Epoch: 27, current_LR = 0.00004369\n",
            "train loss: 0.59938, val loss: 0.83693 \n",
            "train acc: 79.1 %, val acc: 71.0 %\n",
            "--------------------\n"
          ]
        },
        {
          "output_type": "stream",
          "name": "stderr",
          "text": []
        },
        {
          "output_type": "stream",
          "name": "stdout",
          "text": [
            "Epoch: 28, current_LR = 0.00004058\n",
            "train loss: 0.58437, val loss: 0.86662 \n",
            "train acc: 79.4 %, val acc: 70.6 %\n",
            "--------------------\n"
          ]
        },
        {
          "output_type": "stream",
          "name": "stderr",
          "text": []
        },
        {
          "output_type": "stream",
          "name": "stdout",
          "text": [
            "Epoch: 29, current_LR = 0.00003752\n",
            "train loss: 0.56872, val loss: 0.86560 \n",
            "train acc: 80.2 %, val acc: 70.3 %\n",
            "--------------------\n"
          ]
        },
        {
          "output_type": "stream",
          "name": "stderr",
          "text": []
        },
        {
          "output_type": "stream",
          "name": "stdout",
          "text": [
            "Epoch: 30, current_LR = 0.00003450\n",
            "train loss: 0.55141, val loss: 0.85930 \n",
            "train acc: 80.8 %, val acc: 71.1 %\n",
            "--------------------\n"
          ]
        },
        {
          "output_type": "stream",
          "name": "stderr",
          "text": []
        },
        {
          "output_type": "stream",
          "name": "stdout",
          "text": [
            "Epoch: 31, current_LR = 0.00003154\n",
            "train loss: 0.53143, val loss: 0.85855 \n",
            "train acc: 81.5 %, val acc: 70.8 %\n",
            "--------------------\n"
          ]
        },
        {
          "output_type": "stream",
          "name": "stderr",
          "text": []
        },
        {
          "output_type": "stream",
          "name": "stdout",
          "text": [
            "Epoch: 32, current_LR = 0.00002866\n",
            "train loss: 0.51869, val loss: 0.86051 \n",
            "train acc: 81.9 %, val acc: 71.6 %\n",
            "--------------------\n"
          ]
        },
        {
          "output_type": "stream",
          "name": "stderr",
          "text": []
        },
        {
          "output_type": "stream",
          "name": "stdout",
          "text": [
            "Epoch: 33, current_LR = 0.00002586\n",
            "train loss: 0.50342, val loss: 0.83377 \n",
            "train acc: 82.6 %, val acc: 72.0 %\n",
            "--------------------\n"
          ]
        },
        {
          "output_type": "stream",
          "name": "stderr",
          "text": []
        },
        {
          "output_type": "stream",
          "name": "stdout",
          "text": [
            "Epoch: 34, current_LR = 0.00002316\n",
            "train loss: 0.48634, val loss: 0.85251 \n",
            "train acc: 83.1 %, val acc: 71.8 %\n",
            "--------------------\n"
          ]
        },
        {
          "output_type": "stream",
          "name": "stderr",
          "text": []
        },
        {
          "output_type": "stream",
          "name": "stdout",
          "text": [
            "Epoch: 35, current_LR = 0.00002056\n",
            "train loss: 0.46718, val loss: 0.84807 \n",
            "train acc: 83.8 %, val acc: 72.0 %\n",
            "--------------------\n"
          ]
        },
        {
          "output_type": "stream",
          "name": "stderr",
          "text": []
        },
        {
          "output_type": "stream",
          "name": "stdout",
          "text": [
            "Epoch: 36, current_LR = 0.00001808\n",
            "train loss: 0.45355, val loss: 0.85438 \n",
            "train acc: 84.4 %, val acc: 71.6 %\n",
            "--------------------\n"
          ]
        },
        {
          "output_type": "stream",
          "name": "stderr",
          "text": []
        },
        {
          "output_type": "stream",
          "name": "stdout",
          "text": [
            "Epoch: 37, current_LR = 0.00001573\n",
            "train loss: 0.42824, val loss: 0.84224 \n",
            "train acc: 85.4 %, val acc: 72.6 %\n",
            "--------------------\n"
          ]
        },
        {
          "output_type": "stream",
          "name": "stderr",
          "text": []
        },
        {
          "output_type": "stream",
          "name": "stdout",
          "text": [
            "Epoch: 38, current_LR = 0.00001351\n",
            "train loss: 0.41752, val loss: 0.84915 \n",
            "train acc: 85.8 %, val acc: 72.6 %\n",
            "--------------------\n"
          ]
        },
        {
          "output_type": "stream",
          "name": "stderr",
          "text": []
        },
        {
          "output_type": "stream",
          "name": "stdout",
          "text": [
            "Epoch: 39, current_LR = 0.00001143\n",
            "train loss: 0.40329, val loss: 0.82103 \n",
            "train acc: 86.3 %, val acc: 73.3 %\n",
            "--------------------\n"
          ]
        },
        {
          "output_type": "stream",
          "name": "stderr",
          "text": []
        },
        {
          "output_type": "stream",
          "name": "stdout",
          "text": [
            "Epoch: 40, current_LR = 0.00000951\n",
            "train loss: 0.39096, val loss: 0.85889 \n",
            "train acc: 86.9 %, val acc: 73.1 %\n",
            "--------------------\n"
          ]
        },
        {
          "output_type": "stream",
          "name": "stderr",
          "text": []
        },
        {
          "output_type": "stream",
          "name": "stdout",
          "text": [
            "Epoch: 41, current_LR = 0.00000775\n",
            "train loss: 0.37070, val loss: 0.85727 \n",
            "train acc: 87.4 %, val acc: 72.9 %\n",
            "--------------------\n"
          ]
        },
        {
          "output_type": "stream",
          "name": "stderr",
          "text": []
        },
        {
          "output_type": "stream",
          "name": "stdout",
          "text": [
            "Epoch: 42, current_LR = 0.00000615\n",
            "train loss: 0.36307, val loss: 0.85061 \n",
            "train acc: 87.9 %, val acc: 72.2 %\n",
            "--------------------\n"
          ]
        },
        {
          "output_type": "stream",
          "name": "stderr",
          "text": []
        },
        {
          "output_type": "stream",
          "name": "stdout",
          "text": [
            "Epoch: 43, current_LR = 0.00000473\n",
            "train loss: 0.35680, val loss: 0.87326 \n",
            "train acc: 88.2 %, val acc: 72.8 %\n",
            "--------------------\n"
          ]
        },
        {
          "output_type": "stream",
          "name": "stderr",
          "text": []
        },
        {
          "output_type": "stream",
          "name": "stdout",
          "text": [
            "Epoch: 44, current_LR = 0.00000348\n",
            "train loss: 0.34018, val loss: 0.86305 \n",
            "train acc: 88.8 %, val acc: 72.7 %\n",
            "--------------------\n"
          ]
        },
        {
          "output_type": "stream",
          "name": "stderr",
          "text": []
        },
        {
          "output_type": "stream",
          "name": "stdout",
          "text": [
            "Epoch: 45, current_LR = 0.00000242\n",
            "train loss: 0.33778, val loss: 0.86945 \n",
            "train acc: 88.9 %, val acc: 72.8 %\n",
            "--------------------\n"
          ]
        },
        {
          "output_type": "stream",
          "name": "stderr",
          "text": []
        },
        {
          "output_type": "stream",
          "name": "stdout",
          "text": [
            "Epoch: 46, current_LR = 0.00000155\n",
            "train loss: 0.32954, val loss: 0.85463 \n",
            "train acc: 89.3 %, val acc: 72.7 %\n",
            "--------------------\n"
          ]
        },
        {
          "output_type": "stream",
          "name": "stderr",
          "text": []
        },
        {
          "output_type": "stream",
          "name": "stdout",
          "text": [
            "Epoch: 47, current_LR = 0.00000087\n",
            "train loss: 0.31927, val loss: 0.86216 \n",
            "train acc: 89.7 %, val acc: 73.4 %\n",
            "--------------------\n"
          ]
        },
        {
          "output_type": "stream",
          "name": "stderr",
          "text": []
        },
        {
          "output_type": "stream",
          "name": "stdout",
          "text": [
            "Epoch: 48, current_LR = 0.00000038\n",
            "train loss: 0.31944, val loss: 0.86513 \n",
            "train acc: 89.7 %, val acc: 72.7 %\n",
            "--------------------\n"
          ]
        },
        {
          "output_type": "stream",
          "name": "stderr",
          "text": []
        },
        {
          "output_type": "stream",
          "name": "stdout",
          "text": [
            "Epoch: 49, current_LR = 0.00000009\n",
            "train loss: 0.31643, val loss: 0.85525 \n",
            "train acc: 89.7 %, val acc: 73.3 %\n",
            "--------------------\n"
          ]
        },
        {
          "output_type": "stream",
          "name": "stderr",
          "text": [
            "                                                 "
          ]
        },
        {
          "output_type": "stream",
          "name": "stdout",
          "text": [
            "Epoch: 50, current_LR = 0.00000000\n",
            "train loss: 0.31417, val loss: 0.85499 \n",
            "train acc: 89.9 %, val acc: 73.2 %\n",
            "--------------------\n"
          ]
        },
        {
          "output_type": "stream",
          "name": "stderr",
          "text": [
            "\r"
          ]
        }
      ],
      "source": [
        "params = [p for p in model.parameters() if p.requires_grad]\n",
        "optimizer = optim.AdamW(params, lr=LR_init, weight_decay=LAMBDA)\n",
        "scheduler = CosineAnnealingLR(optimizer, T_max = int(len(train_DS)*EPOCH/BATCH_SIZE))\n",
        "Train(model, train_DL, val_DL, criterion, optimizer, scheduler)"
      ]
    },
    {
      "cell_type": "code",
      "source": [
        "def Test_plot(model, test_DL):\n",
        "    model.eval()\n",
        "    with torch.no_grad():\n",
        "        x_batch, y_batch = next(iter(test_DL))\n",
        "        x_batch = x_batch.to(DEVICE)\n",
        "        y_hat = model(x_batch)\n",
        "        pred = y_hat.argmax(dim=1)\n",
        "\n",
        "    x_batch = x_batch.to(\"cpu\")\n",
        "\n",
        "    plt.figure(figsize=(8,4))\n",
        "    for idx in range(6):\n",
        "        plt.subplot(2,3, idx+1, xticks=[], yticks=[])\n",
        "        plt.imshow(x_batch[idx].permute(1,2,0).squeeze())\n",
        "        pred_class = test_DL.dataset.classes[pred[idx]]\n",
        "        true_class = test_DL.dataset.classes[y_batch[idx]]\n",
        "        plt.title(f\"{pred_class} ({true_class})\", color = \"g\" if pred_class==true_class else \"r\")"
      ],
      "metadata": {
        "id": "fxeWAFAwUluL"
      },
      "execution_count": 32,
      "outputs": []
    },
    {
      "cell_type": "code",
      "source": [
        "Test(model, test_DL, criterion)\n",
        "Test_plot(model,test_DL)"
      ],
      "metadata": {
        "colab": {
          "base_uri": "https://localhost:8080/",
          "height": 403
        },
        "id": "Jmp0KJ7KUxro",
        "outputId": "65ac1247-f395-4815-a9ec-b005132f0ddd"
      },
      "execution_count": 34,
      "outputs": [
        {
          "output_type": "stream",
          "name": "stderr",
          "text": []
        },
        {
          "output_type": "stream",
          "name": "stdout",
          "text": [
            "Test loss: 0.838\n",
            "Test accuracy: 7426/10000 (74.3 %)\n"
          ]
        },
        {
          "output_type": "display_data",
          "data": {
            "text/plain": [
              "<Figure size 800x400 with 6 Axes>"
            ],
            "image/png": "[encoded data removed]"
          },
          "metadata": {}
        }
      ]
    }
  ],
  "metadata": {
    "accelerator": "GPU",
    "colab": {
      "gpuType": "A100",
      "machine_shape": "hm",
      "provenance": [],
      "authorship_tag": "ABX9TyNQ0LlvyCaoesp6z87AKJHb",
      "include_colab_link": true
    },
    "kernelspec": {
      "display_name": "Python 3",
      "name": "python3"
    },
    "language_info": {
      "name": "python"
    }
  },
  "nbformat": 4,
  "nbformat_minor": 0
}